{
 "cells": [
  {
   "cell_type": "markdown",
   "id": "fd2e9faf",
   "metadata": {},
   "source": [
    "# Modeling with Logistic Regression, SVM, and Random Forest\n",
    "\n",
    "This notebook performs TF-IDF vectorization of news headlines and evaluates three classification models using 5-fold cross-validation:\n",
    "- Logistic Regression\n",
    "- Support Vector Machine (SVM)\n",
    "- Random Forest"
   ]
  },
  {
   "cell_type": "code",
   "execution_count": 1,
   "id": "da0bbc45",
   "metadata": {},
   "outputs": [],
   "source": [
    "# Import Libraries\n",
    "import pandas as pd\n",
    "import numpy as np\n",
    "from sklearn.model_selection import cross_val_score, StratifiedKFold\n",
    "from sklearn.feature_extraction.text import TfidfVectorizer\n",
    "from sklearn.linear_model import LogisticRegression\n",
    "from sklearn.svm import SVC\n",
    "from sklearn.ensemble import RandomForestClassifier\n",
    "from sklearn.metrics import classification_report, confusion_matrix, accuracy_score\n",
    "import matplotlib.pyplot as plt\n",
    "import seaborn as sns\n",
    "\n",
    "sns.set(style=\"whitegrid\")"
   ]
  },
  {
   "cell_type": "markdown",
   "id": "2a5b459e",
   "metadata": {},
   "source": [
    "## Load and Prepare Data"
   ]
  },
  {
   "cell_type": "code",
   "execution_count": 2,
   "id": "19380b10",
   "metadata": {},
   "outputs": [],
   "source": [
    "fake = pd.read_csv('../data/Fake.csv')\n",
    "real = pd.read_csv('../data/True.csv')\n",
    "\n",
    "fake['label'] = 0\n",
    "real['label'] = 1\n",
    "\n",
    "df = pd.concat([fake, real], ignore_index=True)\n",
    "X = df['title'].astype(str)\n",
    "y = df['label']\n"
   ]
  },
  {
   "cell_type": "markdown",
   "id": "70193a37",
   "metadata": {},
   "source": [
    "## TF-IDF Vectorization"
   ]
  },
  {
   "cell_type": "code",
   "execution_count": 3,
   "id": "683fe315",
   "metadata": {},
   "outputs": [],
   "source": [
    "tfidf = TfidfVectorizer(stop_words='english', max_df=0.7)\n",
    "X_tfidf = tfidf.fit_transform(X)"
   ]
  },
  {
   "cell_type": "markdown",
   "id": "dc13b99b",
   "metadata": {},
   "source": [
    "## Cross-Validation Setup"
   ]
  },
  {
   "cell_type": "code",
   "execution_count": 4,
   "id": "8245395f",
   "metadata": {},
   "outputs": [],
   "source": [
    "cv = StratifiedKFold(n_splits=5, shuffle=True, random_state=42)"
   ]
  },
  {
   "cell_type": "markdown",
   "id": "df23634a",
   "metadata": {},
   "source": [
    "## Logistic Regression\n"
   ]
  },
  {
   "cell_type": "code",
   "execution_count": 5,
   "id": "de4d722f",
   "metadata": {},
   "outputs": [
    {
     "name": "stdout",
     "output_type": "stream",
     "text": [
      "Logistic Regression F1 (mean): 0.9421398063551107\n"
     ]
    }
   ],
   "source": [
    "lr = LogisticRegression(max_iter=1000)\n",
    "lr_scores = cross_val_score(lr, X_tfidf, y, cv=cv, scoring='f1')\n",
    "print(\"Logistic Regression F1 (mean):\", lr_scores.mean())"
   ]
  },
  {
   "cell_type": "markdown",
   "id": "0d3e55d5",
   "metadata": {},
   "source": [
    "## Support Vector Machine"
   ]
  },
  {
   "cell_type": "code",
   "execution_count": 6,
   "id": "365d92d2",
   "metadata": {},
   "outputs": [
    {
     "name": "stdout",
     "output_type": "stream",
     "text": [
      "SVM F1 (mean): 0.9479319730243942\n"
     ]
    }
   ],
   "source": [
    "svm = SVC(kernel='linear')\n",
    "svm_scores = cross_val_score(svm, X_tfidf, y, cv=cv, scoring='f1')\n",
    "print(\"SVM F1 (mean):\", svm_scores.mean())"
   ]
  },
  {
   "cell_type": "markdown",
   "id": "cd95ce35",
   "metadata": {},
   "source": [
    "## Random Forest"
   ]
  },
  {
   "cell_type": "code",
   "execution_count": 7,
   "id": "b88fc9c4",
   "metadata": {},
   "outputs": [
    {
     "name": "stdout",
     "output_type": "stream",
     "text": [
      "Random Forest F1 (mean): 0.9419646530941282\n"
     ]
    }
   ],
   "source": [
    "rf = RandomForestClassifier(n_estimators=100, random_state=42)\n",
    "rf_scores = cross_val_score(rf, X_tfidf, y, cv=cv, scoring='f1')\n",
    "print(\"Random Forest F1 (mean):\", rf_scores.mean())"
   ]
  },
  {
   "cell_type": "markdown",
   "id": "a5f21e9e",
   "metadata": {},
   "source": [
    "## Model Comparison"
   ]
  },
  {
   "cell_type": "code",
   "execution_count": 8,
   "id": "9ce9f206",
   "metadata": {},
   "outputs": [
    {
     "data": {
      "image/png": "[encoded data removed]",
      "text/plain": [
       "<Figure size 640x480 with 1 Axes>"
      ]
     },
     "metadata": {},
     "output_type": "display_data"
    }
   ],
   "source": [
    "scores = {\n",
    "    \"Logistic Regression\": lr_scores.mean(),\n",
    "    \"SVM\": svm_scores.mean(),\n",
    "    \"Random Forest\": rf_scores.mean()\n",
    "}\n",
    "\n",
    "sns.barplot(x=list(scores.keys()), y=list(scores.values()))\n",
    "plt.title(\"Average F1-Score by Model\")\n",
    "plt.ylabel(\"F1-Score\")\n",
    "plt.show()\n"
   ]
  }
 ],
 "metadata": {
  "kernelspec": {
   "display_name": "Python 3",
   "language": "python",
   "name": "python3"
  },
  "language_info": {
   "codemirror_mode": {
    "name": "ipython",
    "version": 3
   },
   "file_extension": ".py",
   "mimetype": "text/x-python",
   "name": "python",
   "nbconvert_exporter": "python",
   "pygments_lexer": "ipython3",
   "version": "3.13.2"
  }
 },
 "nbformat": 4,
 "nbformat_minor": 5
}
